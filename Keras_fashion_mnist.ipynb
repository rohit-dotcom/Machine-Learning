{
 "cells": [
  {
   "cell_type": "code",
   "execution_count": 31,
   "metadata": {},
   "outputs": [],
   "source": [
    "from __future__ import print_function\n",
    "import keras\n",
    "from keras.datasets import fashion_mnist\n",
    "from keras.models import Sequential\n",
    "from keras.layers import Dense,Dropout,Flatten\n",
    "from keras.layers import Conv2D,MaxPooling2D\n",
    "from keras import backend as k\n",
    "\n",
    "import os"
   ]
  },
  {
   "cell_type": "code",
   "execution_count": 32,
   "metadata": {},
   "outputs": [],
   "source": [
    "num_classes=10\n",
    "BATCH_SIZE=64\n",
    "epoch=20"
   ]
  },
  {
   "cell_type": "code",
   "execution_count": 33,
   "metadata": {},
   "outputs": [],
   "source": [
    "img_rows,img_cols=28,28"
   ]
  },
  {
   "cell_type": "code",
   "execution_count": 34,
   "metadata": {},
   "outputs": [],
   "source": [
    "\n",
    "(x_train,y_train),(x_test,y_test)=fashion_mnist.load_data()\n"
   ]
  },
  {
   "cell_type": "code",
   "execution_count": 35,
   "metadata": {},
   "outputs": [
    {
     "data": {
      "text/plain": [
       "'channels_last'"
      ]
     },
     "execution_count": 35,
     "metadata": {},
     "output_type": "execute_result"
    }
   ],
   "source": [
    "k.image_data_format()"
   ]
  },
  {
   "cell_type": "code",
   "execution_count": 36,
   "metadata": {},
   "outputs": [],
   "source": [
    "if k.image_data_format()=='channels_first':\n",
    "    x_train=x_train.reshape(x_train.shape[0],1,img_rows,img_cols)\n",
    "    x_test=x_test.reshape(x_test.shape[0],1,img_rows,img_cols)\n",
    "    input_shape=(1,img_rows,img_cols)\n",
    "else:\n",
    "    x_train=x_train.reshape(x_train.shape[0],img_rows,img_cols,1)\n",
    "    x_test=x_test.reshape(x_test.shape[0],img_rows,img_cols,1)\n",
    "    input_shape=(img_rows,img_cols,1)"
   ]
  },
  {
   "cell_type": "code",
   "execution_count": 37,
   "metadata": {},
   "outputs": [
    {
     "data": {
      "text/plain": [
       "((60000, 28, 28, 1), (28, 28, 1))"
      ]
     },
     "execution_count": 37,
     "metadata": {},
     "output_type": "execute_result"
    }
   ],
   "source": [
    "x_train.shape,input_shape"
   ]
  },
  {
   "cell_type": "code",
   "execution_count": 38,
   "metadata": {},
   "outputs": [],
   "source": [
    "x_train=x_train.astype('float32')\n",
    "x_test=x_test.astype('float32')\n",
    "x_test/=255\n",
    "x_train/=255"
   ]
  },
  {
   "cell_type": "code",
   "execution_count": 39,
   "metadata": {},
   "outputs": [],
   "source": [
    "y_test=keras.utils.to_categorical(y_test,num_classes)\n",
    "y_train=keras.utils.to_categorical(y_train,num_classes)"
   ]
  },
  {
   "cell_type": "code",
   "execution_count": 40,
   "metadata": {},
   "outputs": [],
   "source": [
    "model=Sequential()"
   ]
  },
  {
   "cell_type": "code",
   "execution_count": 41,
   "metadata": {},
   "outputs": [],
   "source": [
    "model.add(Conv2D(32,kernel_size=(3,3),activation='relu',input_shape=input_shape))\n",
    "#model.add(MaxPooling2D(pool_size=(2,2)))\n",
    "model.add(Conv2D(32,kernel_size=(3,3),activation='relu'))\n",
    "model.add(MaxPooling2D(pool_size=(2,2)))\n",
    "model.add(Flatten())\n",
    "model.add(Dense(128,activation='relu'))\n",
    "model.add(Dropout(0.5))\n",
    "model.add(Dense(num_classes,activation='softmax'))\n"
   ]
  },
  {
   "cell_type": "code",
   "execution_count": 42,
   "metadata": {},
   "outputs": [],
   "source": [
    "model.compile(loss=keras.losses.categorical_crossentropy,\n",
    "              optimizer=keras.optimizers.Adadelta(),\n",
    "                 metrics=['accuracy'])"
   ]
  },
  {
   "cell_type": "code",
   "execution_count": 43,
   "metadata": {},
   "outputs": [
    {
     "name": "stdout",
     "output_type": "stream",
     "text": [
      "Train on 60000 samples, validate on 10000 samples\n",
      "Epoch 1/20\n",
      "60000/60000 [==============================] - 20s 336us/step - loss: 0.5089 - accuracy: 0.8198 - val_loss: 0.3350 - val_accuracy: 0.8816\n",
      "Epoch 2/20\n",
      "60000/60000 [==============================] - 19s 308us/step - loss: 0.3240 - accuracy: 0.8845 - val_loss: 0.2845 - val_accuracy: 0.9001\n",
      "Epoch 3/20\n",
      "60000/60000 [==============================] - 19s 310us/step - loss: 0.2778 - accuracy: 0.9012 - val_loss: 0.2719 - val_accuracy: 0.9003\n",
      "Epoch 4/20\n",
      "60000/60000 [==============================] - 19s 312us/step - loss: 0.2473 - accuracy: 0.9125 - val_loss: 0.2406 - val_accuracy: 0.9120\n",
      "Epoch 5/20\n",
      "60000/60000 [==============================] - 19s 313us/step - loss: 0.2265 - accuracy: 0.9192 - val_loss: 0.2417 - val_accuracy: 0.9125\n",
      "Epoch 6/20\n",
      "60000/60000 [==============================] - 19s 315us/step - loss: 0.2089 - accuracy: 0.9255 - val_loss: 0.2326 - val_accuracy: 0.9184\n",
      "Epoch 7/20\n",
      "60000/60000 [==============================] - 19s 316us/step - loss: 0.1967 - accuracy: 0.9296 - val_loss: 0.2225 - val_accuracy: 0.9193\n",
      "Epoch 8/20\n",
      "60000/60000 [==============================] - 19s 316us/step - loss: 0.1821 - accuracy: 0.9339 - val_loss: 0.2184 - val_accuracy: 0.9222\n",
      "Epoch 9/20\n",
      "60000/60000 [==============================] - 19s 315us/step - loss: 0.1723 - accuracy: 0.9377 - val_loss: 0.2348 - val_accuracy: 0.9203\n",
      "Epoch 10/20\n",
      "60000/60000 [==============================] - 19s 315us/step - loss: 0.1667 - accuracy: 0.9403 - val_loss: 0.2309 - val_accuracy: 0.9226\n",
      "Epoch 11/20\n",
      "60000/60000 [==============================] - 19s 315us/step - loss: 0.1578 - accuracy: 0.9431 - val_loss: 0.2189 - val_accuracy: 0.9250\n",
      "Epoch 12/20\n",
      "60000/60000 [==============================] - 19s 316us/step - loss: 0.1495 - accuracy: 0.9470 - val_loss: 0.2261 - val_accuracy: 0.9194\n",
      "Epoch 13/20\n",
      "60000/60000 [==============================] - 19s 316us/step - loss: 0.1429 - accuracy: 0.9498 - val_loss: 0.2257 - val_accuracy: 0.9256\n",
      "Epoch 14/20\n",
      "60000/60000 [==============================] - 19s 317us/step - loss: 0.1399 - accuracy: 0.9505 - val_loss: 0.2349 - val_accuracy: 0.9230\n",
      "Epoch 15/20\n",
      "60000/60000 [==============================] - 19s 319us/step - loss: 0.1354 - accuracy: 0.9522 - val_loss: 0.2438 - val_accuracy: 0.9264\n",
      "Epoch 16/20\n",
      "60000/60000 [==============================] - 19s 321us/step - loss: 0.1341 - accuracy: 0.9537 - val_loss: 0.2244 - val_accuracy: 0.9266\n",
      "Epoch 17/20\n",
      "60000/60000 [==============================] - 19s 322us/step - loss: 0.1262 - accuracy: 0.9558 - val_loss: 0.2360 - val_accuracy: 0.9256\n",
      "Epoch 18/20\n",
      "60000/60000 [==============================] - 19s 321us/step - loss: 0.1248 - accuracy: 0.9554 - val_loss: 0.2721 - val_accuracy: 0.9273\n",
      "Epoch 19/20\n",
      "60000/60000 [==============================] - 19s 323us/step - loss: 0.1231 - accuracy: 0.9567 - val_loss: 0.2436 - val_accuracy: 0.9285\n",
      "Epoch 20/20\n",
      "60000/60000 [==============================] - 19s 320us/step - loss: 0.1212 - accuracy: 0.9573 - val_loss: 0.2597 - val_accuracy: 0.9264\n"
     ]
    }
   ],
   "source": [
    "hist=model.fit(x_train,y_train,batch_size=BATCH_SIZE,\n",
    "              epochs=epoch,verbose=1,\n",
    "              validation_data=(x_test,y_test))"
   ]
  },
  {
   "cell_type": "code",
   "execution_count": 44,
   "metadata": {},
   "outputs": [
    {
     "name": "stdout",
     "output_type": "stream",
     "text": [
      "test score  0.25967386008054016\n",
      "accuracy  0.9264000058174133\n"
     ]
    }
   ],
   "source": [
    "score=model.evaluate(x_test,y_test,verbose=0)\n",
    "print(\"test score \",score[0])\n",
    "print(\"accuracy \",score[1])"
   ]
  },
  {
   "cell_type": "code",
   "execution_count": 1,
   "metadata": {},
   "outputs": [
    {
     "name": "stdout",
     "output_type": "stream",
     "text": [
      "[name: \"/device:CPU:0\"\n",
      "device_type: \"CPU\"\n",
      "memory_limit: 268435456\n",
      "locality {\n",
      "}\n",
      "incarnation: 893323435921047255\n",
      ", name: \"/device:GPU:0\"\n",
      "device_type: \"GPU\"\n",
      "memory_limit: 1451678105\n",
      "locality {\n",
      "  bus_id: 1\n",
      "  links {\n",
      "  }\n",
      "}\n",
      "incarnation: 17780662788747092573\n",
      "physical_device_desc: \"device: 0, name: GeForce MX130, pci bus id: 0000:01:00.0, compute capability: 5.0\"\n",
      "]\n"
     ]
    }
   ],
   "source": [
    "from tensorflow.python.client import device_lib\n",
    "print(device_lib.list_local_devices())"
   ]
  },
  {
   "cell_type": "code",
   "execution_count": null,
   "metadata": {},
   "outputs": [],
   "source": []
  }
 ],
 "metadata": {
  "kernelspec": {
   "display_name": "Python 3",
   "language": "python",
   "name": "python3"
  },
  "language_info": {
   "codemirror_mode": {
    "name": "ipython",
    "version": 3
   },
   "file_extension": ".py",
   "mimetype": "text/x-python",
   "name": "python",
   "nbconvert_exporter": "python",
   "pygments_lexer": "ipython3",
   "version": "3.7.7"
  }
 },
 "nbformat": 4,
 "nbformat_minor": 4
}
