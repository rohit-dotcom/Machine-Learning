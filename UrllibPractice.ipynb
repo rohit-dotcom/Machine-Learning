{
 "cells": [
  {
   "cell_type": "code",
   "execution_count": 1,
   "metadata": {},
   "outputs": [],
   "source": [
    "import urllib.request, urllib.parse,urllib.error"
   ]
  },
  {
   "cell_type": "code",
   "execution_count": 5,
   "metadata": {
    "scrolled": true
   },
   "outputs": [
    {
     "name": "stdout",
     "output_type": "stream",
     "text": [
      "{'But': 1, 'soft': 1, 'what': 1, 'light': 1, 'through': 1, 'yonder': 1, 'window': 1, 'breaks': 1, 'It': 1, 'is': 3, 'the': 3, 'east': 1, 'and': 3, 'Juliet': 1, 'sun': 2, 'Arise': 1, 'fair': 1, 'kill': 1, 'envious': 1, 'moon': 1, 'Who': 1, 'already': 1, 'sick': 1, 'pale': 1, 'with': 1, 'grief': 1}\n"
     ]
    }
   ],
   "source": [
    "fhand=urllib.request.urlopen('http://data.pr4e.org/romeo.txt')\n",
    "counts=dict()\n",
    "for line in fhand:\n",
    "    words=line.decode().split()\n",
    "    for word in words:\n",
    "        counts[word]=counts.get(word,0)+1\n",
    "print(counts)"
   ]
  },
  {
   "cell_type": "code",
   "execution_count": 7,
   "metadata": {},
   "outputs": [
    {
     "name": "stdout",
     "output_type": "stream",
     "text": [
      "<h1>The First Page</h1>\n",
      "\n",
      "<p>\n",
      "\n",
      "If you like, you can switch to the \n",
      "\n",
      "<a href=\"http://www.dr-chuck.com/page2.htm\">\n",
      "\n",
      "Second Page</a>.\n",
      "\n",
      "</p>\n",
      "\n"
     ]
    }
   ],
   "source": [
    "fhand2=urllib.request.urlopen('http://www.dr-chuck.com/page1.htm')\n",
    "for line in fhand2:\n",
    "    print(line.decode())"
   ]
  },
  {
   "cell_type": "code",
   "execution_count": 22,
   "metadata": {},
   "outputs": [
    {
     "name": "stdout",
     "output_type": "stream",
     "text": [
      "['http://www.dr-chuck.com/page2.htm']\n"
     ]
    }
   ],
   "source": [
    "import re\n",
    "fhand2=urllib.request.urlopen('http://www.dr-chuck.com/page1.htm')\n",
    "hlink=[]\n",
    "for line in fhand2:\n",
    "    hlink=hlink+re.findall('href=\"(.*)\"',line.decode())\n",
    "print(hlink)"
   ]
  },
  {
   "cell_type": "code",
   "execution_count": 4,
   "metadata": {},
   "outputs": [
    {
     "name": "stdout",
     "output_type": "stream",
     "text": [
      "<h1>The First Page</h1>\n",
      "\n",
      "<p>\n",
      "\n",
      "If you like, you can switch to the \n",
      "\n",
      "<a href=\"http://www.dr-chuck.com/page2.htm\">\n",
      "\n",
      "Second Page</a>.\n",
      "\n",
      "</p>\n",
      "\n",
      "\n"
     ]
    }
   ],
   "source": [
    "import re\n",
    "fhand2=urllib.request.urlopen('http://www.dr-chuck.com/page1.htm')\n",
    "contents=''\n",
    "for line in fhand2:\n",
    "    contents=contents+line.decode()+'\\n'\n",
    "print(contents)"
   ]
  },
  {
   "cell_type": "code",
   "execution_count": 10,
   "metadata": {},
   "outputs": [
    {
     "data": {
      "text/plain": [
       "['http://www.dr-chuck.com']"
      ]
     },
     "execution_count": 10,
     "metadata": {},
     "output_type": "execute_result"
    }
   ],
   "source": [
    "hlink=re.findall('href=\"(.*)/.*\"',contents)\n",
    "hlink"
   ]
  },
  {
   "cell_type": "code",
   "execution_count": null,
   "metadata": {},
   "outputs": [],
   "source": []
  }
 ],
 "metadata": {
  "kernelspec": {
   "display_name": "Python 3",
   "language": "python",
   "name": "python3"
  },
  "language_info": {
   "codemirror_mode": {
    "name": "ipython",
    "version": 3
   },
   "file_extension": ".py",
   "mimetype": "text/x-python",
   "name": "python",
   "nbconvert_exporter": "python",
   "pygments_lexer": "ipython3",
   "version": "3.7.7"
  }
 },
 "nbformat": 4,
 "nbformat_minor": 4
}
