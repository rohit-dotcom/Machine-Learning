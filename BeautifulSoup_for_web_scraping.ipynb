{
 "cells": [
  {
   "cell_type": "code",
   "execution_count": 1,
   "metadata": {},
   "outputs": [],
   "source": [
    "from bs4 import BeautifulSoup"
   ]
  },
  {
   "cell_type": "code",
   "execution_count": 2,
   "metadata": {},
   "outputs": [],
   "source": [
    "import ssl"
   ]
  },
  {
   "cell_type": "code",
   "execution_count": 3,
   "metadata": {},
   "outputs": [],
   "source": [
    "import urllib.parse, urllib.error, urllib.request"
   ]
  },
  {
   "cell_type": "code",
   "execution_count": 4,
   "metadata": {},
   "outputs": [],
   "source": [
    "#import ssl certificate errors\n",
    "ctx=ssl.create_default_context()"
   ]
  },
  {
   "cell_type": "code",
   "execution_count": 5,
   "metadata": {},
   "outputs": [],
   "source": [
    "ctx.check_hostname=False\n",
    "ctx.verify_mode=ssl.CERT_NONE"
   ]
  },
  {
   "cell_type": "code",
   "execution_count": 11,
   "metadata": {},
   "outputs": [
    {
     "name": "stdout",
     "output_type": "stream",
     "text": [
      "Enter url-http://dr-chuck.com\n"
     ]
    }
   ],
   "source": [
    "url=input('Enter url-')\n",
    "html=urllib.request.urlopen(url,context=ctx).read()\n",
    "soup=BeautifulSoup(html,'html.parser')"
   ]
  },
  {
   "cell_type": "code",
   "execution_count": 12,
   "metadata": {},
   "outputs": [
    {
     "name": "stdout",
     "output_type": "stream",
     "text": [
      "https://www.learnerprivacy.org/\n",
      "https://www.si.umich.edu/\n",
      "https://www.ratemyprofessors.com/ShowRatings.jsp?tid=1159280\n",
      "https://www.learnerprivacy.org\n",
      "https://www.dr-chuck.com/csev-blog/\n",
      "https://www.twitter.com/drchuck/\n",
      "https://www.dr-chuck.com/dr-chuck/resume/speaking.htm\n",
      "https://www.slideshare.net/csev\n",
      "/dr-chuck/resume/index.htm\n",
      "https://amzn.to/1K5Q81K\n",
      "https://www.coursera.org/instructor/drchuck\n",
      "http://afs.dr-chuck.com/papers/\n",
      "https://itunes.apple.com/us/podcast/computing-conversations/id731495760\n",
      "https://www.youtube.com/playlist?list=PLHJB2bhmgB7dFuY7HmrXLj5BmHGKTD-3R\n",
      "https://developers.imsglobal.org/\n",
      "https://www.youtube.com/user/csev\n",
      "https://vimeo.com/drchuck/videos\n",
      "https://backpack.openbadges.org/share/4f76699ddb399d162a00b89a452074b3/\n",
      "https://www.linkedin.com/in/charlesseverance/\n",
      "https://www.researchgate.net/profile/Charles_Severance/\n",
      "https://www.learnerprivacy.org/\n",
      "https://www.coursera.org/course/learn/python\n",
      "https://www.coursera.org/specializations/web-applications/\n",
      "https://www.coursera.org/course/insidetheinternet\n",
      "http://www.py4e.com\n",
      "http://www.wa4e.com/\n",
      "http://www.dj4e.com/\n",
      "https://www.sakaiproject.org/\n",
      "https://www.tsugi.org/\n",
      "https://developers.imsglobal.org/\n",
      "/obi-sample\n",
      "http://www.py4e.com/book\n",
      "http://www.pythonlearn.com/\n",
      "/sakai-book\n",
      "http://www.amazon.com/gp/product/1624311393/ref=as_li_ss_tl?ie=UTF8&camp=1789&creative=390957&creativeASIN=1624311393&linkCode=as2&tag=drchu02-20\n",
      "http://www.amazon.com/gp/product/059680069X/ref=as_li_ss_tl?ie=UTF8&camp=1789&creative=390957&creativeASIN=059680069X&linkCode=as2&tag=drchu02-20\n",
      "http://www.amazon.com/Performance-Computing-Architectures-Optimization-Benchmarks/dp/156592312X/\n",
      "http://oreilly.com/catalog/9781565923126/\n",
      "http://cnx.org/content/col11136/latest/\n",
      "http://www.youtube.com/playlist?list=PLHJB2bhmgB7dFuY7HmrXLj5BmHGKTD-3R\n",
      "https://www.vimeo.com/17207620\n",
      "https://www.youtube.com/watch?v=BVKpW02hsrU\n",
      "https://www.youtube.com/watch?v=sa2WsgCvn7c\n",
      "https://www.vimeo.com/17213019\n",
      "https://www.youtube.com/watch?v=FJ078sO35M0\n",
      "http://afs.dr-chuck.com/citoolkit\n",
      "https://twitter.com/drchuck\n"
     ]
    }
   ],
   "source": [
    "tags=soup('a')\n",
    "for tag in tags:\n",
    "    hperlinks=tag.get('href',None)\n",
    "    print(hperlinks)"
   ]
  },
  {
   "cell_type": "code",
   "execution_count": null,
   "metadata": {},
   "outputs": [],
   "source": []
  }
 ],
 "metadata": {
  "kernelspec": {
   "display_name": "Python 3",
   "language": "python",
   "name": "python3"
  },
  "language_info": {
   "codemirror_mode": {
    "name": "ipython",
    "version": 3
   },
   "file_extension": ".py",
   "mimetype": "text/x-python",
   "name": "python",
   "nbconvert_exporter": "python",
   "pygments_lexer": "ipython3",
   "version": "3.7.7"
  }
 },
 "nbformat": 4,
 "nbformat_minor": 4
}
